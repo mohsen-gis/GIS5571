{
 "cells": [
  {
   "cell_type": "markdown",
   "metadata": {},
   "source": [
    "## ArcGIS I\n",
    "## Lab 3\n",
    "## Mohsen Ahmadkhani\n",
    "\n"
   ]
  },
  {
   "cell_type": "code",
   "execution_count": 1,
   "metadata": {},
   "outputs": [],
   "source": [
    "import pandas as pd\n",
    "import requests\n",
    "import zipfile\n",
    "import io\n",
    "import glob, os, sys\n",
    "import csv\n",
    "import requests\n",
    "import re\n",
    "\n",
    "elev_url = 'https://resources.gisdata.mn.gov/pub/data/elevation/lidar/examples/lidar_sample/geodatabase/'\n",
    "r = requests.get(elev_url)\n",
    "con = r.content\n",
    "\n",
    "dir_list = re.findall('4342-\\S+(?=\\.zip)', str(con), flags = 0)\n",
    "\n",
    "dirs = []\n",
    "for d in dir_list:\n",
    "    dirs.append(elev_url+d.split('\"')[0])\n",
    "    \n",
    "\n",
    "# cwd = sys.path[0]\n",
    "cwd = r\"C:\\Users\\umn-ahmad178\\Desktop\\arc1lab2\"\n",
    "# elev_url = 'https://resources.gisdata.mn.gov/pub/data/elevation/lidar/examples/lidar_sample/geodatabase/4342-12-05.gdb.zip'\n",
    "\n",
    "\n",
    "\n",
    "\n"
   ]
  },
  {
   "cell_type": "code",
   "execution_count": 38,
   "metadata": {},
   "outputs": [],
   "source": [
    "for d in dirs:\n",
    "    r = requests.get(d)\n",
    "    z = zipfile.ZipFile(io.BytesIO(r.content))\n",
    "    z.extractall(path = cwd) # extract to elevation folder\n",
    "\n"
   ]
  },
  {
   "cell_type": "code",
   "execution_count": null,
   "metadata": {},
   "outputs": [],
   "source": [
    "import pandas as pd\n",
    "# import geopandas as gpd\n",
    "import requests\n",
    "import zipfile\n",
    "import io\n",
    "import glob, os, sys\n",
    "import csv\n",
    "import requests\n",
    "import re\n",
    "winona = 'https://resources.gisdata.mn.gov/pub/data/elevation/lidar/county/winona/elevation_data.gdb.zip'\n",
    "wabasha = 'https://resources.gisdata.mn.gov/pub/data/elevation/lidar/county/wabasha/elevation_data.gdb.zip'\n",
    "\n",
    "r = requests.get(winona)\n",
    "# con = r.content\n",
    "# r = requests.get(d)\n",
    "z = zipfile.ZipFile(io.BytesIO(r.content))\n",
    "z.extractall(path = cwd) # extract to elevation folder\n"
   ]
  },
  {
   "cell_type": "code",
   "execution_count": 14,
   "metadata": {},
   "outputs": [],
   "source": [
    "bbox = [[-92.1532542995,44.0388220413],[-92.1540582204,44.1635770527],[-91.9661190296,44.1642009246],[-91.9653151087,44.0394472311],[-92.1532542995,44.0388220413]]\n",
    "\n",
    "\n",
    "import arcpy\n",
    "\n",
    "# Create a polygon geometry\n",
    "array = arcpy.Array([arcpy.Point(bbox[0][0],bbox[0][1]),\n",
    "                     arcpy.Point(bbox[1][0],bbox[1][1]),\n",
    "                     arcpy.Point(bbox[2][0],bbox[2][1]),\n",
    "                     arcpy.Point(bbox[3][0],bbox[3][1])\n",
    "                     ])\n",
    "\n",
    "# array = arcpy.Array([arcpy.Point(bbox[0][1],bbox[0][0]),\n",
    "#                      arcpy.Point(bbox[1][1],bbox[1][0]),\n",
    "#                      arcpy.Point(bbox[2][1],bbox[2][0]),\n",
    "#                      arcpy.Point(bbox[3][1],bbox[3][0])\n",
    "#                      ])\n",
    "rectangle = arcpy.Polygon(array)\n",
    "out_raster = r\"C:\\Users\\umn-ahmad178\\Desktop\\arc1lab2\\clipped_elev\"\n",
    "\n",
    "\n",
    "\n",
    "\n"
   ]
  },
  {
   "cell_type": "code",
   "execution_count": 2,
   "metadata": {},
   "outputs": [],
   "source": [
    "# arcpy.ddd.LasDatasetToTin(in_las_dataset, out_tin, \n",
    "#                           {thinning_type}, {thinning_method}, {thinning_value}, {max_nodes},\n",
    "#                           {z_factor}, {clip_to_extent})\n",
    "\n",
    "import arcpy\n",
    "dem_3m = r'C:\\Users\\umn-ahmad178\\Desktop\\arc1lab2\\elevation_data.gdb\\dem_3m_m'\n",
    "p = r'C:\\Users\\umn-ahmad178\\Desktop\\arc1lab2\\elevation_data.gdb'\n",
    "\n",
    "arcpy.env.workspace = p  # setting workspace to the current directory\n",
    "arcpy.env.overwriteOutput = True\n",
    "\n",
    "\n"
   ]
  },
  {
   "cell_type": "code",
   "execution_count": 3,
   "metadata": {},
   "outputs": [
    {
     "data": {
      "text/plain": [
       "'C:\\\\Users\\\\umn-ahmad178\\\\Desktop\\\\arc1lab2\\\\elevation_data.gdb'"
      ]
     },
     "execution_count": 3,
     "metadata": {},
     "output_type": "execute_result"
    }
   ],
   "source": [
    "arcpy.env.workspace"
   ]
  },
  {
   "cell_type": "code",
   "execution_count": 5,
   "metadata": {},
   "outputs": [
    {
     "data": {
      "text/plain": [
       "['dem_1m_m',\n",
       " 'dem_3m_m',\n",
       " 'dem_3m_hs',\n",
       " 'dem_1m_hs',\n",
       " 'wabasha_dem_3m_clip',\n",
       " 'olmsted_dem_3m_clip',\n",
       " 'olmsted_dem_3m_clip_out',\n",
       " 'winona_dem_3m_clip_out',\n",
       " 'wabasha_dem_3m_clip_out',\n",
       " 'merged_rast',\n",
       " 'slope_rast',\n",
       " 'landcover_out',\n",
       " 'landcover_reclass',\n",
       " 'landcover_3m',\n",
       " 'slope_3m',\n",
       " 'dem_3m',\n",
       " 'water_bodies',\n",
       " 'farm',\n",
       " 'cost_s_m1_f_m10_w_m1_normal',\n",
       " 'cost_s_m1_f_m10_w_m1',\n",
       " 'cost_s_m1_f_m10_w_m1_normal_reversed',\n",
       " 'cost_s_m1_f_m4_w_m3',\n",
       " 'cost_s_m1_f_m4_w_m3_n_r']"
      ]
     },
     "execution_count": 5,
     "metadata": {},
     "output_type": "execute_result"
    }
   ],
   "source": [
    "arcpy.ListRasters()"
   ]
  },
  {
   "cell_type": "code",
   "execution_count": 21,
   "metadata": {},
   "outputs": [],
   "source": [
    "# LAB3 from here\n",
    "#normalize to [0,255]\n",
    "\n",
    "slope = r\"C:\\Users\\umn-ahmad178\\Desktop\\arc1lab2\\lab3.gdb\\slope_3m\"\n",
    "farm = r'C:\\Users\\umn-ahmad178\\Desktop\\arc1lab2\\lab3.gdb\\farm'\n",
    "waterbodies = r'C:\\Users\\umn-ahmad178\\Desktop\\arc1lab2\\lab3.gdb\\water_bodies'\n",
    "slope_n = RasterCalculator([slope], [\"p\"],\n",
    "                                       \"-255+255*((p + 59.2112846374512) / 59.2112846374512)\")\n",
    "slope_n_out = r'C:\\Users\\umn-ahmad178\\Desktop\\arc1lab2\\lab3.gdb\\slope_normal'\n",
    "# Save the output\n",
    "slope_n.save(slope_n_out).\n",
    "\n",
    "farm_n = RasterCalculator([farm], [\"p\"],\n",
    "                                       \"-255+255*((p + 1) / 1)\")\n",
    "farm_n_out = r'C:\\Users\\umn-ahmad178\\Desktop\\arc1lab2\\lab3.gdb\\farm_normal'\n",
    "# Save the output\n",
    "farm_n.save(farm_n_out)\n",
    "\n",
    "waterbodies_n = RasterCalculator([waterbodies], [\"p\"],\n",
    "                                       \"-255+255*((p + 1) / 1)\")\n",
    "waterbodies_n_out = r'C:\\Users\\umn-ahmad178\\Desktop\\arc1lab2\\lab3.gdb\\waterbodies_normal'\n",
    "# Save the output\n",
    "waterbodies_n.save(waterbodies_n_out)"
   ]
  },
  {
   "cell_type": "code",
   "execution_count": 3,
   "metadata": {},
   "outputs": [],
   "source": [
    "import arcpy\n",
    "from arcpy.sa import *\n",
    "import arcpy\n",
    "# dem_3m = r'C:\\Users\\umn-ahmad178\\Desktop\\arc1lab2\\elevation_data.gdb\\dem_3m_m'\n",
    "p = r'C:\\Users\\umn-ahmad178\\Desktop\\arc1lab2\\lab3.gdb'\n",
    "\n",
    "arcpy.env.workspace = p  # setting workspace to the current directory\n",
    "arcpy.env.overwriteOutput = True\n",
    "# # Check out the ArcGIS Spatial Analyst extension license\n",
    "# arcpy.CheckOutExtension(\"Spatial\")\n",
    "\n",
    "\n",
    "# Set local variables\n",
    "cost = r\"C:\\Users\\umn-ahmad178\\Desktop\\arc1lab2\\lab3.gdb\\cost_2s_1f_m2w_normal_res100m\"\n",
    "\n",
    "# Excuate RasterCalculator(Minus) function\n",
    "cost_r = RasterCalculator([cost], [\"p\"],\n",
    "                                       \"((p - 199.499649047852) * -1)\")\n",
    "\n",
    " \n",
    "cost_2s_1f_m2w_out = r'C:\\Users\\umn-ahmad178\\Desktop\\arc1lab2\\lab3.gdb\\cost_2s_1f_m2w_normal_res100m_rev'\n",
    "# Save the output\n",
    "cost_r.save(cost_2s_1f_m2w_out)"
   ]
  },
  {
   "cell_type": "code",
   "execution_count": null,
   "metadata": {},
   "outputs": [],
   "source": [
    "slope = r\"C:\\Users\\umn-ahmad178\\Desktop\\arc1lab2\\lab3.gdb\\slope_normal\"\n",
    "farm = r'C:\\Users\\umn-ahmad178\\Desktop\\arc1lab2\\lab3.gdb\\normal_farm'\n",
    "waterbodies = r'C:\\Users\\umn-ahmad178\\Desktop\\arc1lab2\\lab3.gdb\\normal_water'\n",
    "# Excuate RasterCalculator(Minus) function\n",
    "cost_2s_1f_m2w = RasterCalculator([slope, farm, waterbodies], [\"s\", \"f\", \"w\"],\n",
    "                                       \"(2)*s+(1)*f+(-2)*w\")\n",
    "cost_2s_1f_m2w_out = r'C:\\Users\\umn-ahmad178\\Desktop\\arc1lab2\\lab3.gdb\\cost_2s_1f_m2w'\n",
    "# Save the output\n",
    "cost_2s_1f_m2w.save(cost_2s_1f_m2w_out)\n"
   ]
  },
  {
   "cell_type": "code",
   "execution_count": 4,
   "metadata": {},
   "outputs": [
    {
     "data": {
      "text/plain": [
       "<geoprocessing server result object at 0x24e4b5b9b98>"
      ]
     },
     "execution_count": 4,
     "metadata": {},
     "output_type": "execute_result"
    }
   ],
   "source": [
    "import arcpy\n",
    "# from arcpy.ia import *\n",
    "from arcpy.sa import *\n",
    "\n",
    "od = r'C:\\Users\\umn-ahmad178\\Desktop\\arc1lab2\\lab3.gdb\\OD'\n",
    "cost_2s_1f_m2w_out = r'C:\\Users\\umn-ahmad178\\Desktop\\arc1lab2\\lab3.gdb\\cost_2s_1f_m2w_normal_res100m_rev'\n",
    "\n",
    "out_path = r'C:\\Users\\umn-ahmad178\\Desktop\\arc1lab2\\lab3.gdb\\cost_2s_1f_m2w_normal_res100m_rev_path'\n",
    "\n",
    "# cost_s_m1_f_m10_w_m1_normal_reversed = r'C:\\Users\\umn-ahmad178\\Desktop\\arc1lab2\\elevation_data.gdb\\cost_s_m1_f_m10_w_m1_normal_reversed'\n",
    "# result = r'C:\\Users\\umn-ahmad178\\Desktop\\arc1lab2\\result_normal.shp'\n",
    "\n",
    "# OptimalRegionConnections(od, out_path, {in_barrier_data}, \n",
    "#                          {in_cost_raster = }, {out_neighbor_paths}, {distance_method}, {connections_within_regions})\n",
    "\n",
    "OptimalRegionConnections(od, out_path, in_cost_raster =cost_2s_1f_m2w_out) #correct one\n",
    "\n"
   ]
  },
  {
   "cell_type": "code",
   "execution_count": 5,
   "metadata": {},
   "outputs": [],
   "source": [
    "# Experiment another cost surface with different criteria\n",
    "slope = r\"C:\\Users\\umn-ahmad178\\Desktop\\arc1lab2\\lab3.gdb\\slope_normal\"\n",
    "farm = r'C:\\Users\\umn-ahmad178\\Desktop\\arc1lab2\\lab3.gdb\\normal_farm'\n",
    "waterbodies = r'C:\\Users\\umn-ahmad178\\Desktop\\arc1lab2\\lab3.gdb\\normal_water'\n",
    "# Excuate RasterCalculator(Minus) function\n",
    "cost_m3s_m2f_m2w = RasterCalculator([slope, farm, waterbodies], [\"s\", \"f\", \"w\"],\n",
    "                                       \"(-3)*s+(-2)*f+(-2)*w\")\n",
    "cost_m3s_m2f_m2w_out = r'C:\\Users\\umn-ahmad178\\Desktop\\arc1lab2\\lab3.gdb\\cost_m3s_m2f_m2w'\n",
    "# Save the output\n",
    "cost_m3s_m2f_m2w.save(cost_m3s_m2f_m2w_out)\n"
   ]
  },
  {
   "cell_type": "code",
   "execution_count": 7,
   "metadata": {},
   "outputs": [
    {
     "data": {
      "text/html": [
       "<h2>Output</h2>C:\\Users\\umn-ahmad178\\Desktop\\arc1lab2\\lab3.gdb\\cost_m3s_m2f_m2w_res100m<h2>Messages</h2>Start Time: Wednesday, December 1, 2021 5:05:37 PM<br/>Building Pyramids...<br/>Succeeded at Wednesday, December 1, 2021 5:05:40 PM (Elapsed Time: 3.03 seconds)<br/><style>.rendered_html td, .rendered_html th {text-align: left;}.rendered_html tbody {border: 1px solid black;}</style>"
      ],
      "text/plain": [
       "<Result 'C:\\\\Users\\\\umn-ahmad178\\\\Desktop\\\\arc1lab2\\\\lab3.gdb\\\\cost_m3s_m2f_m2w_res100m'>"
      ]
     },
     "execution_count": 7,
     "metadata": {},
     "output_type": "execute_result"
    }
   ],
   "source": [
    "#resample to 100 by 100\n",
    "in_raster =  r'C:\\Users\\umn-ahmad178\\Desktop\\arc1lab2\\lab3.gdb\\cost_m3s_m2f_m2w'\n",
    "out_raster = r'C:\\Users\\umn-ahmad178\\Desktop\\arc1lab2\\lab3.gdb\\cost_m3s_m2f_m2w_res100m'\n",
    "arcpy.management.Resample(in_raster, out_raster, 100, 'Nearest')"
   ]
  },
  {
   "cell_type": "code",
   "execution_count": 8,
   "metadata": {},
   "outputs": [],
   "source": [
    "# Reverse\n",
    "cost = r'C:\\Users\\umn-ahmad178\\Desktop\\arc1lab2\\lab3.gdb\\cost_m3s_m2f_m2w_res100m_norm'\n",
    "cost_r = RasterCalculator([cost], [\"p\"],\n",
    "                                       \"((p - 255) * -1)\")\n",
    "\n",
    " \n",
    "cost_out = r'C:\\Users\\umn-ahmad178\\Desktop\\arc1lab2\\lab3.gdb\\cost_m3s_m2f_m2w_res100m_norm_rev'\n",
    "# Save the output\n",
    "cost_r.save(cost_out)\n",
    "\n"
   ]
  },
  {
   "cell_type": "code",
   "execution_count": 10,
   "metadata": {},
   "outputs": [
    {
     "data": {
      "text/plain": [
       "<geoprocessing server result object at 0x24e4b5b9760>"
      ]
     },
     "execution_count": 10,
     "metadata": {},
     "output_type": "execute_result"
    }
   ],
   "source": [
    "od = r'C:\\Users\\umn-ahmad178\\Desktop\\arc1lab2\\lab3.gdb\\OD'\n",
    "cost_in = r'C:\\Users\\umn-ahmad178\\Desktop\\arc1lab2\\lab3.gdb\\cost_m3s_m2f_m2w_res100m_norm_rev'\n",
    "out_path = r'C:\\Users\\umn-ahmad178\\Desktop\\arc1lab2\\lab3.gdb\\cost_m3s_m2f_m2w_res100m_norm_rev_path'\n",
    "OptimalRegionConnections(od, out_path, in_cost_raster =cost_in) \n"
   ]
  },
  {
   "cell_type": "code",
   "execution_count": 11,
   "metadata": {},
   "outputs": [
    {
     "data": {
      "text/plain": [
       "<geoprocessing server result object at 0x24e4b5b9b70>"
      ]
     },
     "execution_count": 11,
     "metadata": {},
     "output_type": "execute_result"
    }
   ],
   "source": [
    "od = r'C:\\Users\\umn-ahmad178\\Desktop\\arc1lab2\\lab3.gdb\\OD'\n",
    "cost_in = r'C:\\Users\\umn-ahmad178\\Desktop\\arc1lab2\\lab3.gdb\\cost_m3s_m2f_m2w_res100m_norm'\n",
    "out_path = r'C:\\Users\\umn-ahmad178\\Desktop\\arc1lab2\\lab3.gdb\\cost_m3s_m2f_m2w_res100m_norm_path'\n",
    "OptimalRegionConnections(od, out_path, in_cost_raster =cost_in) "
   ]
  },
  {
   "cell_type": "code",
   "execution_count": null,
   "metadata": {},
   "outputs": [],
   "source": []
  }
 ],
 "metadata": {
  "kernelspec": {
   "display_name": "Python 3",
   "language": "python",
   "name": "python3"
  },
  "language_info": {
   "codemirror_mode": {
    "name": "ipython",
    "version": 3
   },
   "file_extension": ".py",
   "mimetype": "text/x-python",
   "name": "python",
   "nbconvert_exporter": "python",
   "pygments_lexer": "ipython3",
   "version": "3.6.10"
  }
 },
 "nbformat": 4,
 "nbformat_minor": 4
}
