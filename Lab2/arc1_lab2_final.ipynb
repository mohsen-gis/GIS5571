{
 "cells": [
  {
   "cell_type": "markdown",
   "metadata": {},
   "source": [
    "## ArcGIS I\n",
    "## Lab 2\n",
    "## Mohsen Ahmadkhani\n",
    "\n",
    "Please note that I am doing Part 2 first and then go through part 1. "
   ]
  },
  {
   "cell_type": "markdown",
   "metadata": {},
   "source": [
    "# Part 2\n"
   ]
  },
  {
   "cell_type": "code",
   "execution_count": 1,
   "metadata": {},
   "outputs": [],
   "source": [
    "import pandas as pd\n",
    "import requests\n",
    "import zipfile\n",
    "import io\n",
    "import glob, os, sys\n",
    "import csv\n",
    "import requests\n",
    "import re\n",
    "\n",
    "elev_url = 'https://resources.gisdata.mn.gov/pub/data/elevation/lidar/examples/lidar_sample/geodatabase/'\n",
    "r = requests.get(elev_url)\n",
    "con = r.content\n",
    "\n",
    "dir_list = re.findall('4342-\\S+(?=\\.zip)', str(con), flags = 0)\n",
    "\n",
    "dirs = []\n",
    "for d in dir_list:\n",
    "    dirs.append(elev_url+d.split('\"')[0])\n",
    "    \n",
    "\n",
    "# cwd = sys.path[0]\n",
    "cwd = r\"C:\\Users\\umn-ahmad178\\Desktop\\arc1lab2\"\n",
    "# elev_url = 'https://resources.gisdata.mn.gov/pub/data/elevation/lidar/examples/lidar_sample/geodatabase/4342-12-05.gdb.zip'\n",
    "\n",
    "\n",
    "\n",
    "\n"
   ]
  },
  {
   "cell_type": "code",
   "execution_count": 38,
   "metadata": {},
   "outputs": [],
   "source": [
    "for d in dirs:\n",
    "    r = requests.get(d)\n",
    "    z = zipfile.ZipFile(io.BytesIO(r.content))\n",
    "    z.extractall(path = cwd) # extract to elevation folder\n",
    "\n"
   ]
  },
  {
   "cell_type": "code",
   "execution_count": null,
   "metadata": {},
   "outputs": [],
   "source": [
    "import pandas as pd\n",
    "# import geopandas as gpd\n",
    "import requests\n",
    "import zipfile\n",
    "import io\n",
    "import glob, os, sys\n",
    "import csv\n",
    "import requests\n",
    "import re\n",
    "winona = 'https://resources.gisdata.mn.gov/pub/data/elevation/lidar/county/winona/elevation_data.gdb.zip'\n",
    "wabasha = 'https://resources.gisdata.mn.gov/pub/data/elevation/lidar/county/wabasha/elevation_data.gdb.zip'\n",
    "\n",
    "r = requests.get(winona)\n",
    "# con = r.content\n",
    "# r = requests.get(d)\n",
    "z = zipfile.ZipFile(io.BytesIO(r.content))\n",
    "z.extractall(path = cwd) # extract to elevation folder\n"
   ]
  },
  {
   "cell_type": "code",
   "execution_count": 14,
   "metadata": {},
   "outputs": [],
   "source": [
    "bbox = [[-92.1532542995,44.0388220413],[-92.1540582204,44.1635770527],[-91.9661190296,44.1642009246],[-91.9653151087,44.0394472311],[-92.1532542995,44.0388220413]]\n",
    "\n",
    "\n",
    "import arcpy\n",
    "\n",
    "# Create a polygon geometry\n",
    "array = arcpy.Array([arcpy.Point(bbox[0][0],bbox[0][1]),\n",
    "                     arcpy.Point(bbox[1][0],bbox[1][1]),\n",
    "                     arcpy.Point(bbox[2][0],bbox[2][1]),\n",
    "                     arcpy.Point(bbox[3][0],bbox[3][1])\n",
    "                     ])\n",
    "\n",
    "# array = arcpy.Array([arcpy.Point(bbox[0][1],bbox[0][0]),\n",
    "#                      arcpy.Point(bbox[1][1],bbox[1][0]),\n",
    "#                      arcpy.Point(bbox[2][1],bbox[2][0]),\n",
    "#                      arcpy.Point(bbox[3][1],bbox[3][0])\n",
    "#                      ])\n",
    "rectangle = arcpy.Polygon(array)\n",
    "out_raster = r\"C:\\Users\\umn-ahmad178\\Desktop\\arc1lab2\\clipped_elev\"\n",
    "\n",
    "\n",
    "\n",
    "\n"
   ]
  },
  {
   "cell_type": "code",
   "execution_count": 2,
   "metadata": {},
   "outputs": [],
   "source": [
    "# arcpy.ddd.LasDatasetToTin(in_las_dataset, out_tin, \n",
    "#                           {thinning_type}, {thinning_method}, {thinning_value}, {max_nodes},\n",
    "#                           {z_factor}, {clip_to_extent})\n",
    "\n",
    "import arcpy\n",
    "dem_3m = r'C:\\Users\\umn-ahmad178\\Desktop\\arc1lab2\\elevation_data.gdb\\dem_3m_m'\n",
    "p = r'C:\\Users\\umn-ahmad178\\Desktop\\arc1lab2\\elevation_data.gdb'\n",
    "\n",
    "arcpy.env.workspace = p  # setting workspace to the current directory\n",
    "arcpy.env.overwriteOutput = True\n",
    "\n",
    "\n"
   ]
  },
  {
   "cell_type": "code",
   "execution_count": 9,
   "metadata": {},
   "outputs": [
    {
     "data": {
      "text/plain": [
       "'C:\\\\Users\\\\umn-ahmad178\\\\Desktop\\\\arc1lab2\\\\elevation_data.gdb'"
      ]
     },
     "execution_count": 9,
     "metadata": {},
     "output_type": "execute_result"
    }
   ],
   "source": [
    "arcpy.env.workspace"
   ]
  },
  {
   "cell_type": "code",
   "execution_count": 10,
   "metadata": {},
   "outputs": [
    {
     "data": {
      "text/plain": [
       "['dem_1m_m', 'dem_3m_m', 'dem_3m_hs', 'dem_1m_hs']"
      ]
     },
     "execution_count": 10,
     "metadata": {},
     "output_type": "execute_result"
    }
   ],
   "source": [
    "arcpy.ListRasters()"
   ]
  },
  {
   "cell_type": "code",
   "execution_count": 31,
   "metadata": {},
   "outputs": [
    {
     "data": {
      "text/html": [
       "<h2>Output</h2>C:\\Users\\umn-ahmad178\\Desktop\\arc1lab2\\elevation_data.gdb\\wabasha_dem_3m_clip_out<h2>Messages</h2>Start Time: Sunday, October 24, 2021 1:18:13 AM<br/>Building Pyramids...<br/>Succeeded at Sunday, October 24, 2021 1:18:20 AM (Elapsed Time: 6.93 seconds)<br/><style>.rendered_html td, .rendered_html th {text-align: left;}.rendered_html tbody {border: 1px solid black;}</style>"
      ],
      "text/plain": [
       "<Result 'C:\\\\Users\\\\umn-ahmad178\\\\Desktop\\\\arc1lab2\\\\elevation_data.gdb\\\\wabasha_dem_3m_clip_out'>"
      ]
     },
     "execution_count": 31,
     "metadata": {},
     "output_type": "execute_result"
    }
   ],
   "source": [
    "#clip to the counties\n",
    "\n",
    "winona_dem = r'C:\\Users\\umn-ahmad178\\Desktop\\arc1lab2\\elevation_data.gdb\\dem_3m_m'\n",
    "wabasha_dem = r'C:\\Users\\umn-ahmad178\\Desktop\\arc1lab2\\wabasha_dem.gdb\\dem_3m_m'\n",
    "olmsted_dem = r'C:\\Users\\umn-ahmad178\\Desktop\\arc1lab2\\olmsted_dem.gdb\\dem_3m_m'\n",
    "\n",
    "\n",
    "rast_olmsted = arcpy.Raster(olmsted_dem)\n",
    "rast_winona = arcpy.Raster(winona_dem)\n",
    "rast_wabasha = arcpy.Raster(wabasha_dem)\n",
    "rec = '564711 4890814 585764 4873865'\n",
    "\n",
    "olmsted_out = r'C:\\Users\\umn-ahmad178\\Desktop\\arc1lab2\\elevation_data.gdb\\olmsted_dem_3m_clip_out'\n",
    "winona_out = r'C:\\Users\\umn-ahmad178\\Desktop\\arc1lab2\\elevation_data.gdb\\winona_dem_3m_clip_out'\n",
    "wabasha_out = r'C:\\Users\\umn-ahmad178\\Desktop\\arc1lab2\\elevation_data.gdb\\wabasha_dem_3m_clip_out'\n",
    "\n",
    "arcpy.management.Clip(rast_olmsted, rec, olmsted_out)\n",
    "arcpy.management.Clip(rast_winona, rec, winona_out)\n",
    "arcpy.management.Clip(rast_wabasha, rec, wabasha_out)\n"
   ]
  },
  {
   "cell_type": "code",
   "execution_count": 32,
   "metadata": {},
   "outputs": [],
   "source": [
    "import arcpy\n",
    "from arcpy.ia import *\n",
    "\n",
    "in_raster1 = arcpy.Raster(olmsted_out)\n",
    "in_raster2 = arcpy.Raster(winona_out)\n",
    "in_raster3 = arcpy.Raster(wabasha_out)\n",
    "\n",
    "# Merge the three rasters\n",
    "bbox_rast = arcpy.ia.Merge([in_raster1, in_raster2, in_raster3], \"FIRST\")\n",
    "bbox_rast.save(r\"C:\\Users\\umn-ahmad178\\Desktop\\arc1lab2\\elevation_data.gdb\\merged_rast\")"
   ]
  },
  {
   "cell_type": "code",
   "execution_count": 19,
   "metadata": {},
   "outputs": [
    {
     "data": {
      "text/html": [
       "<h2>Output</h2>C:\\Users\\umn-ahmad178\\Desktop\\arc1lab2<h2>Messages</h2>Start Time: Saturday, October 23, 2021 11:58:15 PM<br/>in_memory\\fCBA83A9B_FB6B_4913_B816_248920AC1FEE Successfully converted:  C:\\Users\\umn-ahmad178\\Desktop\\arc1lab2\\fCBA83A9B_FB6B_4913_B816_248920AC1FEE.shp<br/>Succeeded at Saturday, October 23, 2021 11:58:17 PM (Elapsed Time: 1.83 seconds)<br/><style>.rendered_html td, .rendered_html th {text-align: left;}.rendered_html tbody {border: 1px solid black;}</style>"
      ],
      "text/plain": [
       "<Result 'C:\\\\Users\\\\umn-ahmad178\\\\Desktop\\\\arc1lab2'>"
      ]
     },
     "execution_count": 19,
     "metadata": {},
     "output_type": "execute_result"
    }
   ],
   "source": [
    "# bounding box\n",
    "arcpy.conversion.FeatureClassToShapefile(rectangle, r'C:\\Users\\umn-ahmad178\\Desktop\\arc1lab2')\n",
    "\n",
    "\n"
   ]
  },
  {
   "cell_type": "code",
   "execution_count": 33,
   "metadata": {},
   "outputs": [],
   "source": [
    "#Create slope\n",
    "from arcpy.sa import *\n",
    "\n",
    "# Set local variables\n",
    "inRaster = r\"C:\\Users\\umn-ahmad178\\Desktop\\arc1lab2\\elevation_data.gdb\\merged_rast\"\n",
    "outMeasurement = \"DEGREE\"\n",
    "# zFactor = 0.3043\n",
    "\n",
    "# Check out the ArcGIS Spatial Analyst extension license\n",
    "arcpy.CheckOutExtension(\"Spatial\")\n",
    "\n",
    "# Execute Slope\n",
    "outSlope = Slope(inRaster, outMeasurement)\n",
    "\n",
    "# Save the output \n",
    "outSlope.save(r\"C:\\Users\\umn-ahmad178\\Desktop\\arc1lab2\\elevation_data.gdb\\slope_rast\")"
   ]
  },
  {
   "cell_type": "code",
   "execution_count": 35,
   "metadata": {},
   "outputs": [],
   "source": [
    "# download the landcover data \n",
    "farm_tif_url = 'https://resources.gisdata.mn.gov/pub/gdrs/data/pub/edu_umn/base_landcover_minnesota/tif_base_landcover_minnesota.zip'\n",
    "\n",
    "r = requests.get(farm_tif_url)\n",
    "\n",
    "z = zipfile.ZipFile(io.BytesIO(r.content))\n",
    "z.extractall(path = r\"C:\\Users\\umn-ahmad178\\Desktop\\arc1lab2\") # extract to elevation folder\n",
    "\n",
    "\n"
   ]
  },
  {
   "cell_type": "code",
   "execution_count": 37,
   "metadata": {},
   "outputs": [
    {
     "data": {
      "text/html": [
       "<h2>Output</h2>C:\\Users\\umn-ahmad178\\Desktop\\arc1lab2\\elevation_data.gdb\\landcover_out<h2>Messages</h2>Start Time: Sunday, October 24, 2021 1:56:09 AM<br/>Building Pyramids...<br/>Succeeded at Sunday, October 24, 2021 1:56:11 AM (Elapsed Time: 1.90 seconds)<br/><style>.rendered_html td, .rendered_html th {text-align: left;}.rendered_html tbody {border: 1px solid black;}</style>"
      ],
      "text/plain": [
       "<Result 'C:\\\\Users\\\\umn-ahmad178\\\\Desktop\\\\arc1lab2\\\\elevation_data.gdb\\\\landcover_out'>"
      ]
     },
     "execution_count": 37,
     "metadata": {},
     "output_type": "execute_result"
    }
   ],
   "source": [
    "# clipping the raster file to the bbox\n",
    "landcover_tif_path = r'C:\\Users\\umn-ahmad178\\Desktop\\arc1lab2\\landcover_impervious_statewide2013_v2.tif'\n",
    "\n",
    "landcover_tif = arcpy.Raster(landcover_tif_path)\n",
    "rec = '564711 4890814 585764 4873865'\n",
    "\n",
    "\n",
    "landcover_out = r'C:\\Users\\umn-ahmad178\\Desktop\\arc1lab2\\elevation_data.gdb\\landcover_out'\n",
    "\n",
    "arcpy.management.Clip(landcover_tif, rec, landcover_out)\n",
    "\n",
    "\n"
   ]
  },
  {
   "cell_type": "code",
   "execution_count": 44,
   "metadata": {},
   "outputs": [
    {
     "data": {
      "text/html": [
       "<h2>Output</h2>C:\\Users\\umn-ahmad178\\Desktop\\arc1lab2\\elevation_data.gdb\\dem_3m<h2>Messages</h2>Start Time: Sunday, October 24, 2021 2:46:34 AM<br/>Building Pyramids...<br/>Succeeded at Sunday, October 24, 2021 2:46:50 AM (Elapsed Time: 15.66 seconds)<br/><style>.rendered_html td, .rendered_html th {text-align: left;}.rendered_html tbody {border: 1px solid black;}</style>"
      ],
      "text/plain": [
       "<Result 'C:\\\\Users\\\\umn-ahmad178\\\\Desktop\\\\arc1lab2\\\\elevation_data.gdb\\\\dem_3m'>"
      ]
     },
     "execution_count": 44,
     "metadata": {},
     "output_type": "execute_result"
    }
   ],
   "source": [
    "# Resample TIFF image to a higher resolution\n",
    "    \n",
    "\n",
    "landcover = r'C:\\Users\\umn-ahmad178\\Desktop\\arc1lab2\\elevation_data.gdb\\landcover_reclass'\n",
    "slope = r\"C:\\Users\\umn-ahmad178\\Desktop\\arc1lab2\\elevation_data.gdb\\slope_rast\"\n",
    "elev = r\"C:\\Users\\umn-ahmad178\\Desktop\\arc1lab2\\elevation_data.gdb\\merged_rast\"\n",
    "\n",
    "landcover_out = r\"C:\\Users\\umn-ahmad178\\Desktop\\arc1lab2\\elevation_data.gdb\\landcover_3m\"\n",
    "slope_out = r\"C:\\Users\\umn-ahmad178\\Desktop\\arc1lab2\\elevation_data.gdb\\slope_3m\"\n",
    "elev_out = r\"C:\\Users\\umn-ahmad178\\Desktop\\arc1lab2\\elevation_data.gdb\\dem_3m\"\n",
    "\n",
    "arcpy.management.Resample(landcover, landcover_out, 3, \"CUBIC\")\n",
    "arcpy.management.Resample(slope, slope_out, 3, \"CUBIC\")\n",
    "arcpy.management.Resample(elev, elev_out, 3, \"CUBIC\")\n"
   ]
  },
  {
   "cell_type": "code",
   "execution_count": 46,
   "metadata": {},
   "outputs": [
    {
     "data": {
      "text/html": [
       "<h2>Output</h2>C:\\Users\\umn-ahmad178\\Desktop\\arc1lab2\\elevation_data.gdb\\farm<h2>Messages</h2>Start Time: Sunday, October 24, 2021 3:12:27 AM<br/>Succeeded at Sunday, October 24, 2021 3:12:29 AM (Elapsed Time: 1.68 seconds)<br/><style>.rendered_html td, .rendered_html th {text-align: left;}.rendered_html tbody {border: 1px solid black;}</style>"
      ],
      "text/plain": [
       "<Result 'C:\\\\Users\\\\umn-ahmad178\\\\Desktop\\\\arc1lab2\\\\elevation_data.gdb\\\\farm'>"
      ]
     },
     "execution_count": 46,
     "metadata": {},
     "output_type": "execute_result"
    }
   ],
   "source": [
    "\n",
    "import arcpy\n",
    "# Reclassified according to:\n",
    "# https://resources.gisdata.mn.gov/pub/gdrs/data/pub/edu_umn/base_landcover_minnesota/metadata/metadata.html\n",
    "\n",
    "# Set local variables\n",
    "inRaster = r'C:\\Users\\umn-ahmad178\\Desktop\\arc1lab2\\elevation_data.gdb\\landcover_out'\n",
    "field = \"VALUE\"\n",
    "remapString = \"0 100 0;101 102 1;103 256 0\"\n",
    "outRaster = r'C:\\Users\\umn-ahmad178\\Desktop\\arc1lab2\\elevation_data.gdb\\water_bodies'\n",
    "\n",
    "# Execute Reclassify\n",
    "arcpy.Reclassify_3d(inRaster, field, remapString, outRaster, \"DATA\")\n",
    "\n",
    "\n",
    "# Set local variables\n",
    "inRaster = r'C:\\Users\\umn-ahmad178\\Desktop\\arc1lab2\\elevation_data.gdb\\landcover_out'\n",
    "field = \"VALUE\"\n",
    "remapString = \"0 108 0;109 110 1;111 256 0\"\n",
    "outRaster = r'C:\\Users\\umn-ahmad178\\Desktop\\arc1lab2\\elevation_data.gdb\\farm'\n",
    "\n",
    "# Execute Reclassify\n",
    "arcpy.Reclassify_3d(inRaster, field, remapString, outRaster, \"DATA\")\n",
    "\n"
   ]
  },
  {
   "cell_type": "code",
   "execution_count": 10,
   "metadata": {},
   "outputs": [],
   "source": [
    "# Raster Calculator ----------> Cost map creation\n",
    "import arcpy\n",
    "from arcpy.sa import *\n",
    "import arcpy\n",
    "dem_3m = r'C:\\Users\\umn-ahmad178\\Desktop\\arc1lab2\\elevation_data.gdb\\dem_3m_m'\n",
    "p = r'C:\\Users\\umn-ahmad178\\Desktop\\arc1lab2\\elevation_data.gdb'\n",
    "\n",
    "arcpy.env.workspace = p  # setting workspace to the current directory\n",
    "arcpy.env.overwriteOutput = True\n",
    "# # Check out the ArcGIS Spatial Analyst extension license\n",
    "# arcpy.CheckOutExtension(\"Spatial\")\n",
    "\n",
    "\n",
    "# Set local variables\n",
    "slope = r\"C:\\Users\\umn-ahmad178\\Desktop\\arc1lab2\\elevation_data.gdb\\slope_3m\"\n",
    "farm = r'C:\\Users\\umn-ahmad178\\Desktop\\arc1lab2\\elevation_data.gdb\\farm'\n",
    "waterbodies = r'C:\\Users\\umn-ahmad178\\Desktop\\arc1lab2\\elevation_data.gdb\\water_bodies'\n",
    "# Excuate RasterCalculator(Minus) function\n",
    "cost_s_m1_f_m10_w_m1 = RasterCalculator([slope, farm, waterbodies], [\"s\", \"f\", \"w\"],\n",
    "                                       \"(-1)*s+(-10)*f+(-1)*w\")\n",
    "cost_s_m1_f_m10_w_m1_out = r'C:\\Users\\umn-ahmad178\\Desktop\\arc1lab2\\elevation_data.gdb\\cost_s_m1_f_m10_w_m1'\n",
    "# Save the output\n",
    "cost_s_m1_f_m10_w_m1.save(cost_s_m1_f_m10_w_m1_out)"
   ]
  },
  {
   "cell_type": "code",
   "execution_count": 11,
   "metadata": {},
   "outputs": [],
   "source": [
    "\n",
    "\n",
    "ras = r'C:\\Users\\umn-ahmad178\\Desktop\\arc1lab2\\elevation_data.gdb\\cost_s_m1_f_m10_w_m1'\n",
    "cost_s_m1_f_m10_w_m1 = RasterCalculator([ras], [\"p\"],\n",
    "                                       \"255-255*((p + 59.497318267822266) / 59.497318267822266)\")\n",
    "cost_s_m1_f_m10_w_m1_out = r'C:\\Users\\umn-ahmad178\\Desktop\\arc1lab2\\elevation_data.gdb\\cost_s_m1_f_m10_w_m1_normal_reversed'\n",
    "# Save the output\n",
    "cost_s_m1_f_m10_w_m1.save(cost_s_m1_f_m10_w_m1_out)\n"
   ]
  },
  {
   "cell_type": "code",
   "execution_count": null,
   "metadata": {},
   "outputs": [],
   "source": [
    "#create farm raster\n",
    "\n",
    "landcover_in = r'C:\\Users\\umn-ahmad178\\Desktop\\arc1lab2\\elevation_data.gdb\\landcover_out'\n",
    "field = \"VALUE\"\n",
    "remapString = \"0 100 0;101 102 1;103 103 2;104 104 3;105 107 4;108 108 5;109 110 6\"\n",
    "outRaster = r'C:\\Users\\umn-ahmad178\\Desktop\\arc1lab2\\elevation_data.gdb\\landcover_reclass'\n",
    "\n",
    "# Execute Reclassify\n",
    "arcpy.Reclassify_3d(inRaster, field, remapString, outRaster, \"DATA\")"
   ]
  },
  {
   "cell_type": "code",
   "execution_count": null,
   "metadata": {},
   "outputs": [],
   "source": []
  },
  {
   "cell_type": "code",
   "execution_count": 17,
   "metadata": {},
   "outputs": [
    {
     "data": {
      "text/plain": [
       "<geoprocessing server result object at 0x25651984030>"
      ]
     },
     "execution_count": 17,
     "metadata": {},
     "output_type": "execute_result"
    }
   ],
   "source": [
    "od = r'C:\\Users\\umn-ahmad178\\Desktop\\arc1lab2\\OD.shp'\n",
    "out_path = r'C:\\Users\\umn-ahmad178\\Desktop\\arc1lab2\\elevation_data.gdb\\out_path_rev'\n",
    "# cost_s_m1_f_m10_w_m1_normal = r'C:\\Users\\umn-ahmad178\\Desktop\\arc1lab2\\elevation_data.gdb\\cost_s_m1_f_m10_w_m1_normal'\n",
    "cost_s_m1_f_m10_w_m1_normal_reversed = r'C:\\Users\\umn-ahmad178\\Desktop\\arc1lab2\\elevation_data.gdb\\cost_s_m1_f_m10_w_m1_normal_reversed'\n",
    "result = r'C:\\Users\\umn-ahmad178\\Desktop\\arc1lab2\\result_normal.shp'\n",
    "\n",
    "# OptimalRegionConnections(od, out_path, {in_barrier_data}, \n",
    "#                          {in_cost_raster = }, {out_neighbor_paths}, {distance_method}, {connections_within_regions})\n",
    "\n",
    "OptimalRegionConnections(od, out_path, in_cost_raster =cost_s_m1_f_m10_w_m1_normal_reversed) #correct one\n",
    "\n",
    "\n"
   ]
  },
  {
   "cell_type": "code",
   "execution_count": null,
   "metadata": {},
   "outputs": [],
   "source": [
    "cost_s_m1_f_m10_w_m1_normal_reversed = r'C:\\Users\\umn-ahmad178\\Desktop\\arc1lab2\\elevation_data.gdb\\cost_s_m1_f_m10_w_m1_normal_reversed'\n",
    "out_path_rev = r'C:\\Users\\umn-ahmad178\\Desktop\\arc1lab2\\elevation_data.gdb\\out_path_rev'\n",
    "# landcover_tif_path = r'C:\\Users\\umn-ahmad178\\Desktop\\arc1lab2\\landcover_impervious_statewide2013_v2.tif'\n",
    "\n",
    "landcover_tif = arcpy.Raster(cost_s_m1_f_m10_w_m1_normal_reversed)\n",
    "# arcpy.Polyline()\n",
    "# landcover_tif\n"
   ]
  },
  {
   "cell_type": "code",
   "execution_count": 24,
   "metadata": {},
   "outputs": [],
   "source": [
    "# Raster Calculator ----------> Cost map creation\n",
    "import arcpy\n",
    "from arcpy.sa import *\n",
    "import arcpy\n",
    "\n",
    "p = r'C:\\Users\\umn-ahmad178\\Desktop\\arc1lab2\\elevation_data.gdb'\n",
    "\n",
    "arcpy.env.workspace = p  # setting workspace to the current directory\n",
    "arcpy.env.overwriteOutput = True\n",
    "# # Check out the ArcGIS Spatial Analyst extension license\n",
    "# arcpy.CheckOutExtension(\"Spatial\")\n",
    "\n",
    "\n",
    "# Set local variables\n",
    "slope = r\"C:\\Users\\umn-ahmad178\\Desktop\\arc1lab2\\elevation_data.gdb\\slope_3m\"\n",
    "farm = r'C:\\Users\\umn-ahmad178\\Desktop\\arc1lab2\\elevation_data.gdb\\farm'\n",
    "waterbodies = r'C:\\Users\\umn-ahmad178\\Desktop\\arc1lab2\\elevation_data.gdb\\water_bodies'\n",
    "# Excuate RasterCalculator(Minus) function\n",
    "cost_s_m1_f_m4_w_m3 = RasterCalculator([slope, farm, waterbodies], [\"s\", \"f\", \"w\"],\n",
    "                                       \"(-1)*s+(-4)*f+(-3)*w\")\n",
    "cost_s_m1_f_m4_w_m3_out = r'C:\\Users\\umn-ahmad178\\Desktop\\arc1lab2\\elevation_data.gdb\\cost_s_m1_f_m4_w_m3'\n",
    "# Save the output\n",
    "cost_s_m1_f_m4_w_m3.save(cost_s_m1_f_m4_w_m3_out)\n"
   ]
  },
  {
   "cell_type": "code",
   "execution_count": 25,
   "metadata": {},
   "outputs": [],
   "source": [
    "#normalize to [0,255]\n",
    "# ras = r'C:\\Users\\umn-ahmad178\\Desktop\\arc1lab2\\elevation_data.gdb\\cost_s_m1_f_m10_w_m1'\n",
    "cost_s_m1_f_m4_w_m3_n_r = RasterCalculator([cost_s_m1_f_m4_w_m3_out], [\"p\"],\n",
    "                                       \"255-255*((p + 59.497318267822266) / 59.497318267822266)\")\n",
    "cost_s_m1_f_m4_w_m3_n_r_out = r'C:\\Users\\umn-ahmad178\\Desktop\\arc1lab2\\elevation_data.gdb\\cost_s_m1_f_m4_w_m3_n_r'\n",
    "# Save the output\n",
    "cost_s_m1_f_m4_w_m3_n_r.save(cost_s_m1_f_m4_w_m3_n_r_out)\n",
    "\n"
   ]
  },
  {
   "cell_type": "code",
   "execution_count": 26,
   "metadata": {},
   "outputs": [
    {
     "data": {
      "text/plain": [
       "<geoprocessing server result object at 0x256647057d8>"
      ]
     },
     "execution_count": 26,
     "metadata": {},
     "output_type": "execute_result"
    }
   ],
   "source": [
    "od = r'C:\\Users\\umn-ahmad178\\Desktop\\arc1lab2\\OD.shp'\n",
    "out_path = r'C:\\Users\\umn-ahmad178\\Desktop\\arc1lab2\\elevation_data.gdb\\cost_s_m1_f_m4_w_m3_n_r_out_path'\n",
    "# cost_s_m1_f_m10_w_m1_normal = r'C:\\Users\\umn-ahmad178\\Desktop\\arc1lab2\\elevation_data.gdb\\cost_s_m1_f_m10_w_m1_normal'\n",
    "# result = r'C:\\Users\\umn-ahmad178\\Desktop\\arc1lab2\\result_normal.shp'\n",
    "\n",
    "# OptimalRegionConnections(od, out_path, {in_barrier_data}, \n",
    "#                          {in_cost_raster = }, {out_neighbor_paths}, {distance_method}, {connections_within_regions})\n",
    "\n",
    "OptimalRegionConnections(od, out_path, in_cost_raster =cost_s_m1_f_m4_w_m3_n_r_out) #correct one\n",
    "\n"
   ]
  },
  {
   "cell_type": "markdown",
   "metadata": {},
   "source": [
    "# Part 1"
   ]
  },
  {
   "cell_type": "markdown",
   "metadata": {},
   "source": [
    "*\tDownloads .LAS files from MN DNR [1] \n",
    "*\tConverts the .LAS file into both a DEM and a TIN\n",
    "*\tSaves the new DEM and TIN to disk\n",
    "*\tExports PDFs of the DEM and TIN with correct visualization (see here)\n"
   ]
  },
  {
   "cell_type": "code",
   "execution_count": 27,
   "metadata": {
    "scrolled": true
   },
   "outputs": [
    {
     "data": {
      "text/plain": [
       "['https://resources.gisdata.mn.gov/pub/data/elevation/lidar/examples/lidar_sample/las/4342-12-05.las',\n",
       " 'https://resources.gisdata.mn.gov/pub/data/elevation/lidar/examples/lidar_sample/las/4342-12-06.las',\n",
       " 'https://resources.gisdata.mn.gov/pub/data/elevation/lidar/examples/lidar_sample/las/4342-12-07.las',\n",
       " 'https://resources.gisdata.mn.gov/pub/data/elevation/lidar/examples/lidar_sample/las/4342-13-03.las',\n",
       " 'https://resources.gisdata.mn.gov/pub/data/elevation/lidar/examples/lidar_sample/las/4342-13-04.las',\n",
       " 'https://resources.gisdata.mn.gov/pub/data/elevation/lidar/examples/lidar_sample/las/4342-13-05.las',\n",
       " 'https://resources.gisdata.mn.gov/pub/data/elevation/lidar/examples/lidar_sample/las/4342-13-06.las',\n",
       " 'https://resources.gisdata.mn.gov/pub/data/elevation/lidar/examples/lidar_sample/las/4342-13-07.las',\n",
       " 'https://resources.gisdata.mn.gov/pub/data/elevation/lidar/examples/lidar_sample/las/4342-14-03.las',\n",
       " 'https://resources.gisdata.mn.gov/pub/data/elevation/lidar/examples/lidar_sample/las/4342-14-04.las',\n",
       " 'https://resources.gisdata.mn.gov/pub/data/elevation/lidar/examples/lidar_sample/las/4342-14-05.las',\n",
       " 'https://resources.gisdata.mn.gov/pub/data/elevation/lidar/examples/lidar_sample/las/4342-15-03.las',\n",
       " 'https://resources.gisdata.mn.gov/pub/data/elevation/lidar/examples/lidar_sample/las/4342-15-04.las',\n",
       " 'https://resources.gisdata.mn.gov/pub/data/elevation/lidar/examples/lidar_sample/las/4342-16-03.las',\n",
       " 'https://resources.gisdata.mn.gov/pub/data/elevation/lidar/examples/lidar_sample/las/4342-16-04.las']"
      ]
     },
     "execution_count": 27,
     "metadata": {},
     "output_type": "execute_result"
    }
   ],
   "source": [
    "# Download las files\n",
    "import pandas as pd\n",
    "# import geopandas as gpd\n",
    "import requests\n",
    "import zipfile\n",
    "import io\n",
    "import glob, os, sys\n",
    "import csv\n",
    "import requests\n",
    "import re\n",
    "\n",
    "elev_url = 'https://resources.gisdata.mn.gov/pub/data/elevation/lidar/examples/lidar_sample/las/'\n",
    "r = requests.get(elev_url)\n",
    "con = r.content\n",
    "\n",
    "dir_list = re.findall('4342-\\S+(?=\\.las)', str(con), flags = 0)\n",
    "\n",
    "dirs = []\n",
    "for d in dir_list:\n",
    "    dirs.append(elev_url+d.split('\"')[0])\n",
    "    \n",
    "\n",
    "# cwd = sys.path[0]\n",
    "cwd = r\"C:\\Users\\umn-ahmad178\\Desktop\\arc1lab2\"\n",
    "# elev_url = 'https://resources.gisdata.mn.gov/pub/data/elevation/lidar/examples/lidar_sample/geodatabase/4342-12-05.gdb.zip'\n",
    "dirs\n"
   ]
  },
  {
   "cell_type": "code",
   "execution_count": 55,
   "metadata": {
    "scrolled": true
   },
   "outputs": [],
   "source": [
    "#download all las files\n",
    "import urllib.request as ur\n",
    "\n",
    "for url in dirs[0:3]:\n",
    "    testfile = ur.URLopener()\n",
    "    testfile.retrieve(url, f'C:\\\\Users\\\\umn-ahmad178\\\\Desktop\\\\arc1lab2\\\\las_files\\\\{url[-14:]}')\n",
    "\n",
    "    \n"
   ]
  },
  {
   "cell_type": "code",
   "execution_count": 47,
   "metadata": {},
   "outputs": [
    {
     "data": {
      "text/plain": [
       "'4342-12-05.las'"
      ]
     },
     "execution_count": 47,
     "metadata": {},
     "output_type": "execute_result"
    }
   ],
   "source": [
    "dirs[0][-14:]"
   ]
  },
  {
   "cell_type": "code",
   "execution_count": 77,
   "metadata": {},
   "outputs": [
    {
     "data": {
      "text/html": [
       "<h2>Output</h2>c:\\Users\\umn-ahmad178\\documents\\ArcGIS\\Projects\\arc1lab2\\arc1lab2.gdb\\c43421205_la2<h2>Messages</h2>Start Time: Tuesday, October 26, 2021 10:02:20 PM<br/>Succeeded at Tuesday, October 26, 2021 10:02:24 PM (Elapsed Time: 4.29 seconds)<br/><style>.rendered_html td, .rendered_html th {text-align: left;}.rendered_html tbody {border: 1px solid black;}</style>"
      ],
      "text/plain": [
       "<Result 'c:\\\\Users\\\\umn-ahmad178\\\\documents\\\\ArcGIS\\\\Projects\\\\arc1lab2\\\\arc1lab2.gdb\\\\c43421205_la2'>"
      ]
     },
     "execution_count": 77,
     "metadata": {},
     "output_type": "execute_result"
    }
   ],
   "source": [
    "# Convert las to DEM\n",
    "\n",
    "in_las_dataset = f'C:\\\\Users\\\\umn-ahmad178\\\\Desktop\\\\arc1lab2\\\\las_files\\\\{dirs[0][-14:]}'\n",
    "\n",
    "OUT = r'c:\\users\\umn-ahmad178\\documents\\arcgis\\projects\\arc1lab2\\arc1lab2.gdb\\c43421205_la2'\n",
    "\n",
    "\n",
    "arcpy.LasDatasetToRaster_conversion(in_las_dataset, OUT, 'ELEVATION', 'BINNING AVERAGE LINEAR', 'FLOAT', 'CELLSIZE', 10,1)\n",
    "\n"
   ]
  },
  {
   "cell_type": "code",
   "execution_count": 78,
   "metadata": {},
   "outputs": [
    {
     "data": {
      "text/html": [
       "<h2>Output</h2>c:\\Users\\umn-ahmad178\\documents\\ArcGIS\\Projects\\arc1lab2\\arc1lab2.gdb\\out_tin<h2>Messages</h2>Start Time: Tuesday, October 26, 2021 10:04:12 PM<br/>Succeeded at Tuesday, October 26, 2021 10:04:13 PM (Elapsed Time: 1.49 seconds)<br/><style>.rendered_html td, .rendered_html th {text-align: left;}.rendered_html tbody {border: 1px solid black;}</style>"
      ],
      "text/plain": [
       "<Result 'c:\\\\Users\\\\umn-ahmad178\\\\documents\\\\ArcGIS\\\\Projects\\\\arc1lab2\\\\arc1lab2.gdb\\\\out_tin'>"
      ]
     },
     "execution_count": 78,
     "metadata": {},
     "output_type": "execute_result"
    }
   ],
   "source": [
    "# Convert las to tin\n",
    "OUT = r'c:\\users\\umn-ahmad178\\documents\\arcgis\\projects\\arc1lab2\\arc1lab2.gdb\\out_tin'\n",
    "\n",
    "in_las_dataset = f'C:\\\\Users\\\\umn-ahmad178\\\\Desktop\\\\arc1lab2\\\\las_files\\\\{dirs[0][-14:]}'\n",
    "\n",
    "arcpy.ddd.LasDatasetToTin(in_las_dataset, OUT, 'RANDOM', 15, 3.28)\n",
    "#                           {thinning_type}, {thinning_method}, {thinning_value}, {max_nodes},\n",
    "#                           {z_factor}, {clip_to_extent})\n",
    "\n"
   ]
  },
  {
   "cell_type": "code",
   "execution_count": 97,
   "metadata": {},
   "outputs": [
    {
     "data": {
      "text/plain": [
       "'C:\\\\Users\\\\umn-ahmad178\\\\Desktop\\\\arc1lab2\\\\las_to_dem.pdf'"
      ]
     },
     "execution_count": 97,
     "metadata": {},
     "output_type": "execute_result"
    }
   ],
   "source": [
    "# Export DEM layout to pdf\n",
    "proj_path = r'C:\\Users\\umn-ahmad178\\Documents\\ArcGIS\\Projects\\arc1lab2\\arc1lab2.aprx'\n",
    "work_dir = r\"C:\\Users\\umn-ahmad178\\Desktop\\arc1lab2\\las_to_dem.pdf\"\n",
    "\n",
    "aprx = arcpy.mp.ArcGISProject(proj_path)\n",
    "lyt = aprx.listLayouts()[0]\n",
    "lyt.exportToPDF(work_dir, resolution = 300)\n"
   ]
  },
  {
   "cell_type": "code",
   "execution_count": 98,
   "metadata": {},
   "outputs": [
    {
     "data": {
      "text/plain": [
       "'C:\\\\Users\\\\umn-ahmad178\\\\Desktop\\\\arc1lab2\\\\las_to_tin.pdf'"
      ]
     },
     "execution_count": 98,
     "metadata": {},
     "output_type": "execute_result"
    }
   ],
   "source": [
    "# Export TIN layout to pdf\n",
    "proj_path = r'C:\\Users\\umn-ahmad178\\Documents\\ArcGIS\\Projects\\arc1lab2\\arc1lab2.aprx'\n",
    "work_dir = r\"C:\\Users\\umn-ahmad178\\Desktop\\arc1lab2\\las_to_tin.pdf\"\n",
    "\n",
    "aprx = arcpy.mp.ArcGISProject(proj_path)\n",
    "lyt = aprx.listLayouts()[1]\n",
    "lyt.exportToPDF(work_dir, resolution = 300)\n"
   ]
  },
  {
   "cell_type": "markdown",
   "metadata": {},
   "source": [
    "# Part 1.3.\n",
    "Describe and build an ETL in ArcPro Jupyter Notebooks that\n",
    "1. Downloads the annual 30-Year Normals .bil files for precipitation from PRISM [2]\n",
    "*\tConverts the data into a spacetime cube and exports it to disk (see here for example of final conversion step; to get to this point, you will need to go through other transformation steps likely) [3]\n",
    "*\tExport an animation of the timeseries\n"
   ]
  },
  {
   "cell_type": "code",
   "execution_count": 103,
   "metadata": {},
   "outputs": [
    {
     "data": {
      "text/plain": [
       "'221 Goodbye.'"
      ]
     },
     "execution_count": 103,
     "metadata": {},
     "output_type": "execute_result"
    }
   ],
   "source": [
    "# Download PRISM precipitation data using FTP \n",
    "import ftplib\n",
    "\n",
    "path = '/normals_4km/ppt' \n",
    "filename = 'PRISM_ppt_30yr_normal_4kmM2_annual_bil.zip'\n",
    "\n",
    "ftp = ftplib.FTP(\"prism.nacse.org\") \n",
    "ftp.login(\"anonymous\", \"ahmad178@umn.edu\") \n",
    "\n",
    "ftp.cwd(path)\n",
    "ftp.nlst()\n",
    "ftp.retrbinary(\"RETR \" + filename, open(r\"C:\\Users\\umn-ahmad178\\Desktop\\arc1lab2\\\\\"+filename, 'wb').write)\n",
    "ftp.quit()"
   ]
  },
  {
   "cell_type": "code",
   "execution_count": 107,
   "metadata": {},
   "outputs": [
    {
     "data": {
      "text/plain": [
       "'PRISM_ppt_30yr_normal_4kmM2_annual_bil.bil'"
      ]
     },
     "execution_count": 107,
     "metadata": {},
     "output_type": "execute_result"
    }
   ],
   "source": [
    "# Unzip the file \n",
    "import zipfile\n",
    "import os\n",
    "import glob\n",
    "\n",
    "bill_file = r\"C:\\Users\\umn-ahmad178\\Desktop\\arc1lab2\\\\\"+filename\n",
    "z = zipfile.ZipFile(bill_file)\n",
    "z.extractall(path = r\"C:\\Users\\umn-ahmad178\\Desktop\\arc1lab2\\bill\\\\\") # extract to bill folder\n",
    "os.chdir(r\"C:\\Users\\umn-ahmad178\\Desktop\\arc1lab2\\bill\\\\\")\n",
    "bil = glob.glob(\"*.bil\")[0]\n",
    "bil"
   ]
  },
  {
   "cell_type": "code",
   "execution_count": null,
   "metadata": {},
   "outputs": [],
   "source": [
    "output_cube = r\"C:\\Users\\umn-ahmad178\\Desktop\\arc1lab2\\out_cube\\\\\"\n",
    "arcpy.stpm.CreateSpaceTimeCubeMDRasterLayer(bil, output_cube, 'ZEROS')\n"
   ]
  },
  {
   "cell_type": "code",
   "execution_count": 111,
   "metadata": {},
   "outputs": [
    {
     "data": {
      "text/plain": [
       "'221 Goodbye.'"
      ]
     },
     "execution_count": 111,
     "metadata": {},
     "output_type": "execute_result"
    }
   ],
   "source": [
    "\n",
    "path = '/normals_4km/ppt' \n",
    "filename = 'PRISM_ppt_30yr_normal_4kmM2_annual_bil.zip'\n",
    "filename = 'PRISM_ppt_30yr_normal_4kmM2_all_bil.zip'\n",
    "ftp = ftplib.FTP(\"prism.nacse.org\") \n",
    "ftp.login(\"anonymous\", \"ahmad178@umn.edu\") \n",
    "\n",
    "ftp.cwd(path)\n",
    "ftp.nlst()\n",
    "ftp.retrbinary(\"RETR \" + filename, open(r\"C:\\Users\\umn-ahmad178\\Desktop\\arc1lab2\\\\\"+filename, 'wb').write)\n",
    "ftp.quit()"
   ]
  },
  {
   "cell_type": "code",
   "execution_count": 115,
   "metadata": {},
   "outputs": [
    {
     "data": {
      "text/plain": [
       "['PRISM_ppt_30yr_normal_4kmM2_01_bil.bil',\n",
       " 'PRISM_ppt_30yr_normal_4kmM2_02_bil.bil',\n",
       " 'PRISM_ppt_30yr_normal_4kmM2_03_bil.bil',\n",
       " 'PRISM_ppt_30yr_normal_4kmM2_04_bil.bil',\n",
       " 'PRISM_ppt_30yr_normal_4kmM2_05_bil.bil',\n",
       " 'PRISM_ppt_30yr_normal_4kmM2_06_bil.bil',\n",
       " 'PRISM_ppt_30yr_normal_4kmM2_07_bil.bil',\n",
       " 'PRISM_ppt_30yr_normal_4kmM2_08_bil.bil',\n",
       " 'PRISM_ppt_30yr_normal_4kmM2_09_bil.bil',\n",
       " 'PRISM_ppt_30yr_normal_4kmM2_10_bil.bil',\n",
       " 'PRISM_ppt_30yr_normal_4kmM2_11_bil.bil',\n",
       " 'PRISM_ppt_30yr_normal_4kmM2_12_bil.bil',\n",
       " 'PRISM_ppt_30yr_normal_4kmM2_annual_bil.bil']"
      ]
     },
     "execution_count": 115,
     "metadata": {},
     "output_type": "execute_result"
    }
   ],
   "source": [
    "# Unzip the file \n",
    "import zipfile\n",
    "import os\n",
    "import glob\n",
    "filename = '\\PRISM_ppt_30yr_normal_4kmM2_all_bil.zip'\n",
    "bill_file = r\"C:\\Users\\umn-ahmad178\\Desktop\\arc1lab2\"+filename\n",
    "z = zipfile.ZipFile(bill_file)\n",
    "z.extractall(path = r\"C:\\Users\\umn-ahmad178\\Desktop\\arc1lab2\\bill\\\\\") # extract to bill folder\n",
    "os.chdir(r\"C:\\Users\\umn-ahmad178\\Desktop\\arc1lab2\\bill\\\\\")\n",
    "bil = glob.glob(\"*.bil\")\n",
    "bil"
   ]
  },
  {
   "cell_type": "code",
   "execution_count": 117,
   "metadata": {},
   "outputs": [
    {
     "data": {
      "text/html": [
       "<h2>Output</h2>c:\\Users\\umn-ahmad178\\documents\\ArcGIS\\Projects\\arc1lab2\\arc1lab2.gdb\\precipitation<h2>Messages</h2>Start Time: Wednesday, October 27, 2021 4:50:22 AM<br/>Succeeded at Wednesday, October 27, 2021 4:50:28 AM (Elapsed Time: 6.25 seconds)<br/><style>.rendered_html td, .rendered_html th {text-align: left;}.rendered_html tbody {border: 1px solid black;}</style>"
      ],
      "text/plain": [
       "<Result 'c:\\\\Users\\\\umn-ahmad178\\\\documents\\\\ArcGIS\\\\Projects\\\\arc1lab2\\\\arc1lab2.gdb\\\\precipitation'>"
      ]
     },
     "execution_count": 117,
     "metadata": {},
     "output_type": "execute_result"
    }
   ],
   "source": [
    "# in_workspace = r\"C:\\Users\\umn-ahmad178\\Desktop\\arc1lab2\"\n",
    "in_workspace = r'c:\\users\\umn-ahmad178\\documents\\arcgis\\projects\\arc1lab2\\arc1lab2.gdb'\n",
    "coordinate_system = r\"C:\\Users\\umn-ahmad178\\Desktop\\arc1lab2\\bill\\PRISM_ppt_30yr_normal_4kmM2_04_bil.bil\"\n",
    "\n",
    "arcpy.management.CreateMosaicDataset(in_workspace, 'precipitation', coordinate_system)\n",
    "\n",
    "\n"
   ]
  },
  {
   "cell_type": "code",
   "execution_count": 119,
   "metadata": {},
   "outputs": [
    {
     "data": {
      "text/html": [
       "<h2>Output</h2>c:\\Users\\umn-ahmad178\\documents\\ArcGIS\\Projects\\arc1lab2\\arc1lab2.gdb\\precipitation<h2>Messages</h2>Start Time: Wednesday, October 27, 2021 4:53:59 AM<br/>2021-10-27T04:54:07.531: Loading raster datasets<br/>2021-10-27T04:54:07.954: Completed crawling 13 data source items. Added 13 mosaic dataset items.<br/>2021-10-27T04:54:07.955: Synchronizing crawled data source items<br/>2021-10-27T04:54:08.201: Synchronizing items associated with raster type instance 'Raster Dataset' [ID: 1].<br/>2021-10-27T04:54:08.977: Completed synchronization: 13 items selected, 13 items synchronized.<br/>2021-10-27T04:54:09.433: Computing cell size levels<br/>2021-10-27T04:54:09.433: Computing unique cell size values<br/>2021-10-27T04:54:09.629: Computing maximum cell size values<br/>2021-10-27T04:54:09.631: Computing minimum cell size values<br/>2021-10-27T04:54:09.635: Updating visibility values of selected items<br/>2021-10-27T04:54:09.653: Computing maximum cell size for mosaic dataset<br/>2021-10-27T04:54:09.661: Completed computing cell size ranges.<br/>2021-10-27T04:54:09.887: Completed building boundary.<br/>Succeeded at Wednesday, October 27, 2021 4:54:10 AM (Elapsed Time: 11.40 seconds)<br/><style>.rendered_html td, .rendered_html th {text-align: left;}.rendered_html tbody {border: 1px solid black;}</style>"
      ],
      "text/plain": [
       "<Result 'c:\\\\Users\\\\umn-ahmad178\\\\documents\\\\ArcGIS\\\\Projects\\\\arc1lab2\\\\arc1lab2.gdb\\\\precipitation'>"
      ]
     },
     "execution_count": 119,
     "metadata": {},
     "output_type": "execute_result"
    }
   ],
   "source": [
    "in_mosaic_dataset = r'c:\\Users\\umn-ahmad178\\documents\\ArcGIS\\Projects\\arc1lab2\\arc1lab2.gdb\\precipitation'\n",
    "input_path = r\"C:\\Users\\umn-ahmad178\\Desktop\\arc1lab2\\bill\"\n",
    "arcpy.management.AddRastersToMosaicDataset(in_mosaic_dataset, 'Raster Dataset', input_path)\n"
   ]
  },
  {
   "cell_type": "code",
   "execution_count": 155,
   "metadata": {},
   "outputs": [
    {
     "data": {
      "text/html": [
       "<h2>Output</h2>c:\\Users\\umn-ahmad178\\documents\\ArcGIS\\Projects\\arc1lab2\\arc1lab2.gdb\\precipitation<h2>Messages</h2>Start Time: Tuesday, November 2, 2021 11:07:38 PM<br/>Succeeded at Tuesday, November 2, 2021 11:07:41 PM (Elapsed Time: 2.49 seconds)<br/><style>.rendered_html td, .rendered_html th {text-align: left;}.rendered_html tbody {border: 1px solid black;}</style>"
      ],
      "text/plain": [
       "<Result 'c:\\\\Users\\\\umn-ahmad178\\\\documents\\\\ArcGIS\\\\Projects\\\\arc1lab2\\\\arc1lab2.gdb\\\\precipitation'>"
      ]
     },
     "execution_count": 155,
     "metadata": {},
     "output_type": "execute_result"
    }
   ],
   "source": [
    "# calculate field (ppt = precipitation)\n",
    "in_table = r\"c:\\Users\\umn-ahmad178\\documents\\ArcGIS\\Projects\\arc1lab2\\arc1lab2.gdb\\precipitation\"\n",
    "\n",
    "arcpy.AddField_management(in_table, \"Variable\", \"TEXT\")\n",
    "arcpy.CalculateField_management(in_table, \"Variable\", \"'ppt'\", \"PYTHON3\", \"\")\n",
    "\n"
   ]
  },
  {
   "cell_type": "code",
   "execution_count": 156,
   "metadata": {},
   "outputs": [
    {
     "data": {
      "text/html": [
       "<h2>Output</h2>c:\\Users\\umn-ahmad178\\documents\\ArcGIS\\Projects\\arc1lab2\\arc1lab2.gdb\\precipitation<h2>Messages</h2>Start Time: Tuesday, November 2, 2021 11:13:47 PM<br/>Succeeded at Tuesday, November 2, 2021 11:13:50 PM (Elapsed Time: 2.98 seconds)<br/><style>.rendered_html td, .rendered_html th {text-align: left;}.rendered_html tbody {border: 1px solid black;}</style>"
      ],
      "text/plain": [
       "<Result 'c:\\\\Users\\\\umn-ahmad178\\\\documents\\\\ArcGIS\\\\Projects\\\\arc1lab2\\\\arc1lab2.gdb\\\\precipitation'>"
      ]
     },
     "execution_count": 156,
     "metadata": {},
     "output_type": "execute_result"
    }
   ],
   "source": [
    "# calculate field (ppt = precipitation)\n",
    "in_table = r\"c:\\Users\\umn-ahmad178\\documents\\ArcGIS\\Projects\\arc1lab2\\arc1lab2.gdb\\precipitation\"\n",
    "expression = \"DateAdd(Date(2010,0,1), $feature.OBJECTID-1, 'months')\"\n",
    "\n",
    "expression = \"DateAdd(Date(2010,1,1),$feature.OBJECTID-2, 'months')\"\n",
    "\n",
    "arcpy.AddField_management(in_table, \"Timestamp\", \"Date\")\n",
    "\n",
    "arcpy.CalculateField_management(in_table, \"Timestamp\", expression, \"Arcade\", \"\")\n",
    "\n"
   ]
  },
  {
   "cell_type": "code",
   "execution_count": 157,
   "metadata": {},
   "outputs": [
    {
     "data": {
      "text/html": [
       "<h2>Output</h2>c:\\Users\\umn-ahmad178\\documents\\ArcGIS\\Projects\\arc1lab2\\arc1lab2.gdb\\precipitation<h2>Messages</h2>Start Time: Tuesday, November 2, 2021 11:16:43 PM<br/>Succeeded at Tuesday, November 2, 2021 11:16:46 PM (Elapsed Time: 2.90 seconds)<br/><style>.rendered_html td, .rendered_html th {text-align: left;}.rendered_html tbody {border: 1px solid black;}</style>"
      ],
      "text/plain": [
       "<Result 'c:\\\\Users\\\\umn-ahmad178\\\\documents\\\\ArcGIS\\\\Projects\\\\arc1lab2\\\\arc1lab2.gdb\\\\precipitation'>"
      ]
     },
     "execution_count": 157,
     "metadata": {},
     "output_type": "execute_result"
    }
   ],
   "source": [
    "inputmosaicdataset = r\"c:\\Users\\umn-ahmad178\\documents\\ArcGIS\\Projects\\arc1lab2\\arc1lab2.gdb\\precipitation\"\n",
    "variable_field = \"Variable\"\n",
    "dimension_fields= \"Timestamp\"\n",
    "\n",
    "arcpy.BuildMultidimensionalInfo_md(inputmosaicdataset, variable_field, dimension_fields)\n",
    "\n",
    "\n"
   ]
  },
  {
   "cell_type": "code",
   "execution_count": 158,
   "metadata": {},
   "outputs": [
    {
     "data": {
      "text/html": [
       "<h2>Output</h2>a Layer object<h2>Messages</h2>Start Time: Tuesday, November 2, 2021 11:23:35 PM<br/>Succeeded at Tuesday, November 2, 2021 11:23:41 PM (Elapsed Time: 6.39 seconds)<br/><style>.rendered_html td, .rendered_html th {text-align: left;}.rendered_html tbody {border: 1px solid black;}</style>"
      ],
      "text/plain": [
       "<Result 'precipitation_multidimlayer'>"
      ]
     },
     "execution_count": 158,
     "metadata": {},
     "output_type": "execute_result"
    }
   ],
   "source": [
    "in_multidimensional_raster = r\"c:\\Users\\umn-ahmad178\\documents\\ArcGIS\\Projects\\arc1lab2\\arc1lab2.gdb\\precipitation\"\n",
    "out_multidimensional_raster_layer = r\"precipitation_MultidimLayer\"\n",
    "variables = \"ppt\"\n",
    "dimension_def = \"ALL\"\n",
    "dimension_values = \"\"\n",
    "template = \"-2871587.5494 2660354.42205404 3264899.3805797 6041683.9549\"\n",
    "\n",
    "arcpy.md.MakeMultidimensionalRasterLayer(in_multidimensional_raster, out_multidimensional_raster_layer, variables, \n",
    "                                         dimension_def, dimension_values, template)\n"
   ]
  },
  {
   "cell_type": "code",
   "execution_count": null,
   "metadata": {},
   "outputs": [],
   "source": [
    "\n",
    "out_path = r\"C:\\Users\\umn-ahmad178\\Desktop\\arc1lab2\\precipitation_st_cube.nc\"\n",
    "arcpy.CreateSpaceTimeCubeMDRasterLayer_stpm(r\"precipitation_MultidimLayer\", \n",
    "                  out_path, \"SPACE_TIME_NEIGHBORS\")\n"
   ]
  },
  {
   "cell_type": "code",
   "execution_count": null,
   "metadata": {},
   "outputs": [],
   "source": []
  }
 ],
 "metadata": {
  "kernelspec": {
   "display_name": "Python 3",
   "language": "python",
   "name": "python3"
  },
  "language_info": {
   "codemirror_mode": {
    "name": "ipython",
    "version": 3
   },
   "file_extension": ".py",
   "mimetype": "text/x-python",
   "name": "python",
   "nbconvert_exporter": "python",
   "pygments_lexer": "ipython3",
   "version": "3.8.1"
  }
 },
 "nbformat": 4,
 "nbformat_minor": 4
}
